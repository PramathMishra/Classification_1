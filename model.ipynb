{
 "cells": [
  {
   "cell_type": "markdown",
   "metadata": {},
   "source": [
    "###### **Data Exploration**"
   ]
  },
  {
   "cell_type": "code",
   "execution_count": 1,
   "metadata": {},
   "outputs": [
    {
     "name": "stdout",
     "output_type": "stream",
     "text": [
      "shape of the dataset:  (336, 8)\n",
      "##############################\n",
      "dataset description: \n",
      "             0        1        2        3        4        5        6\n",
      "count  336.000  336.000  336.000  336.000  336.000  336.000  336.000\n",
      "mean     0.500    0.500    0.495    0.501    0.500    0.500    0.500\n",
      "std      0.195    0.148    0.088    0.027    0.122    0.216    0.209\n",
      "min      0.000    0.160    0.480    0.500    0.000    0.030    0.000\n",
      "25%      0.340    0.400    0.480    0.500    0.420    0.330    0.350\n",
      "50%      0.500    0.470    0.480    0.500    0.495    0.455    0.430\n",
      "75%      0.662    0.570    0.480    0.500    0.570    0.710    0.710\n",
      "max      0.890    1.000    1.000    1.000    0.880    1.000    0.990\n",
      "##############################\n",
      "class distribution: \n",
      "Class=cp, Count=143, Percentage=42.560%\n",
      "Class=im, Count=77, Percentage=22.917%\n",
      "Class=imS, Count=2, Percentage=0.595%\n",
      "Class=imL, Count=2, Percentage=0.595%\n",
      "Class=imU, Count=35, Percentage=10.417%\n",
      "Class=om, Count=20, Percentage=5.952%\n",
      "Class=omL, Count=5, Percentage=1.488%\n",
      "Class=pp, Count=52, Percentage=15.476%\n"
     ]
    }
   ],
   "source": [
    "# load and summarize the dataset\n",
    "\n",
    "from pandas import read_csv\n",
    "from pandas import set_option\n",
    "from collections import Counter\n",
    "\n",
    "# define the dataset location\n",
    "filename = './data/ecoli.csv'\n",
    "\n",
    "# load the csv file as a data frame\n",
    "dataframe = read_csv(filename, header=None)\n",
    "\n",
    "# summarize the shape of the dataset\n",
    "print(\"shape of the dataset: \", dataframe.shape)\n",
    "\n",
    "# describe the dataset\n",
    "set_option('precision', 3)\n",
    "print(\"###\"*10)\n",
    "print(\"dataset description: \")\n",
    "print(dataframe.describe())\n",
    "\n",
    "# summarize the class distribution\n",
    "print(\"###\"*10)\n",
    "print(\"class distribution: \")\n",
    "target = dataframe.values[:,-1]\n",
    "counter = Counter(target)\n",
    "for k,v in counter.items():\n",
    "    per = v / len(target) * 100\n",
    "    print('Class=%s, Count=%d, Percentage=%.3f%%' % (k, v, per))"
   ]
  },
  {
   "cell_type": "code",
   "execution_count": 2,
   "metadata": {},
   "outputs": [
    {
     "data": {
      "image/png": "[encoded data removed]",
      "text/plain": [
       "<Figure size 432x288 with 9 Axes>"
      ]
     },
     "metadata": {
      "needs_background": "light"
     },
     "output_type": "display_data"
    }
   ],
   "source": [
    "# create histograms of all variables\n",
    "\n",
    "from pandas import read_csv\n",
    "from matplotlib import pyplot\n",
    "\n",
    "# define the dataset location\n",
    "filename = './data/ecoli.csv'\n",
    "\n",
    "# load the csv file as a data frame\n",
    "df = read_csv(filename, header=None)\n",
    "\n",
    "# create a histogram plot of each variable\n",
    "df.hist(bins=25)\n",
    "\n",
    "# show the plot\n",
    "pyplot.show()"
   ]
  },
  {
   "cell_type": "markdown",
   "metadata": {},
   "source": [
    "###### **Model Test and Baseline Result**"
   ]
  },
  {
   "cell_type": "code",
   "execution_count": 3,
   "metadata": {},
   "outputs": [
    {
     "name": "stdout",
     "output_type": "stream",
     "text": [
      "(332, 7) (332,) Counter({0: 143, 1: 77, 5: 52, 2: 35, 3: 20, 4: 5})\n",
      "Mean Accuracy: 0.431 (0.006)\n"
     ]
    }
   ],
   "source": [
    "from collections import Counter\n",
    "from numpy import mean\n",
    "from numpy import std\n",
    "from pandas import read_csv\n",
    "from sklearn.preprocessing import LabelEncoder\n",
    "from sklearn.model_selection import cross_val_score\n",
    "from sklearn.model_selection import RepeatedStratifiedKFold\n",
    "from sklearn.dummy import DummyClassifier\n",
    " \n",
    "# load the dataset\n",
    "def load_dataset(full_path):\n",
    "    # load the dataset as a numpy array\n",
    "    df = read_csv(full_path, header=None)\n",
    "    # remove rows for the minority classes\n",
    "    df = df[df[7] != 'imS']\n",
    "    df = df[df[7] != 'imL']\n",
    "    # retrieve numpy array\n",
    "    data = df.values\n",
    "    # split into input and output elements\n",
    "    X, y = data[:, :-1], data[:, -1]\n",
    "    # label encode the target variable to have the classes 0 and 1\n",
    "    y = LabelEncoder().fit_transform(y)\n",
    "    return X, y\n",
    " \n",
    "# evaluate a model\n",
    "def evaluate_model(X, y, model):\n",
    "    # define evaluation procedure\n",
    "    cv = RepeatedStratifiedKFold(n_splits=5, n_repeats=3, random_state=1)\n",
    "    # evaluate model\n",
    "    scores = cross_val_score(model, X, y, scoring='accuracy', cv=cv, n_jobs=-1)\n",
    "    return scores\n",
    " \n",
    "# define the location of the dataset\n",
    "full_path = './data/ecoli.csv'\n",
    "# load the dataset\n",
    "X, y = load_dataset(full_path)\n",
    "# summarize the loaded dataset\n",
    "print(X.shape, y.shape, Counter(y))\n",
    "# define the reference model\n",
    "model = DummyClassifier(strategy='most_frequent')\n",
    "# evaluate the model\n",
    "scores = evaluate_model(X, y, model)\n",
    "# summarize performance\n",
    "print('Mean Accuracy: %.3f (%.3f)' % (mean(scores), std(scores)))"
   ]
  },
  {
   "cell_type": "markdown",
   "metadata": {},
   "source": [
    "###### **Evaluate Machine Learning Algorithms**"
   ]
  },
  {
   "cell_type": "code",
   "execution_count": 4,
   "metadata": {},
   "outputs": [
    {
     "name": "stdout",
     "output_type": "stream",
     "text": [
      ">LDA 0.881 (0.041)\n",
      ">SVM 0.882 (0.040)\n",
      ">BAG 0.860 (0.035)\n",
      ">RF 0.886 (0.026)\n",
      ">ET 0.877 (0.033)\n"
     ]
    },
    {
     "data": {
      "image/png": "[encoded data removed]",
      "text/plain": [
       "<Figure size 432x288 with 1 Axes>"
      ]
     },
     "metadata": {
      "needs_background": "light"
     },
     "output_type": "display_data"
    }
   ],
   "source": [
    "from numpy import mean\n",
    "from numpy import std\n",
    "from pandas import read_csv\n",
    "from matplotlib import pyplot\n",
    "from sklearn.preprocessing import LabelEncoder\n",
    "from sklearn.model_selection import cross_val_score\n",
    "from sklearn.model_selection import RepeatedStratifiedKFold\n",
    "from sklearn.svm import LinearSVC\n",
    "from sklearn.discriminant_analysis import LinearDiscriminantAnalysis\n",
    "from sklearn.ensemble import RandomForestClassifier\n",
    "from sklearn.ensemble import ExtraTreesClassifier\n",
    "from sklearn.ensemble import BaggingClassifier\n",
    " \n",
    "# load the dataset\n",
    "def load_dataset(full_path):\n",
    "    # load the dataset as a numpy array\n",
    "    df = read_csv(full_path, header=None)\n",
    "    # remove rows for the minority classes\n",
    "    df = df[df[7] != 'imS']\n",
    "    df = df[df[7] != 'imL']\n",
    "    # retrieve numpy array\n",
    "    data = df.values\n",
    "    # split into input and output elements\n",
    "    X, y = data[:, :-1], data[:, -1]\n",
    "    # label encode the target variable\n",
    "    y = LabelEncoder().fit_transform(y)\n",
    "    return X, y\n",
    " \n",
    "# evaluate a model\n",
    "def evaluate_model(X, y, model):\n",
    "    # define evaluation procedure\n",
    "    cv = RepeatedStratifiedKFold(n_splits=5, n_repeats=3, random_state=1)\n",
    "    # evaluate model\n",
    "    scores = cross_val_score(model, X, y, scoring='accuracy', cv=cv, n_jobs=-1)\n",
    "    return scores\n",
    " \n",
    "# define models to test\n",
    "def get_models():\n",
    "    models, names = list(), list()\n",
    "    # LDA\n",
    "    models.append(LinearDiscriminantAnalysis())\n",
    "    names.append('LDA')\n",
    "    # SVM\n",
    "    models.append(LinearSVC())\n",
    "    names.append('SVM')\n",
    "    # Bagging\n",
    "    models.append(BaggingClassifier(n_estimators=1000))\n",
    "    names.append('BAG')\n",
    "    # RF\n",
    "    models.append(RandomForestClassifier(n_estimators=1000))\n",
    "    names.append('RF')\n",
    "    # ET\n",
    "    models.append(ExtraTreesClassifier(n_estimators=1000))\n",
    "    names.append('ET')\n",
    "    return models, names\n",
    " \n",
    "# define the location of the dataset\n",
    "full_path = './data/ecoli.csv'\n",
    "\n",
    "# load the dataset\n",
    "X, y = load_dataset(full_path)\n",
    "\n",
    "# define models\n",
    "models, names = get_models()\n",
    "results = list()\n",
    "\n",
    "# evaluate each model\n",
    "for i in range(len(models)):\n",
    "    # evaluate the model and store results\n",
    "    scores = evaluate_model(X, y, models[i])\n",
    "    results.append(scores)\n",
    "    # summarize performance\n",
    "    print('>%s %.3f (%.3f)' % (names[i], mean(scores), std(scores)))\n",
    "\n",
    "# plot the results\n",
    "pyplot.boxplot(results, labels=names, showmeans=True)\n",
    "pyplot.show()"
   ]
  },
  {
   "cell_type": "markdown",
   "metadata": {},
   "source": [
    "###### **Evaluate Data Oversampling**"
   ]
  },
  {
   "cell_type": "code",
   "execution_count": 5,
   "metadata": {},
   "outputs": [
    {
     "name": "stdout",
     "output_type": "stream",
     "text": [
      ">LDA 0.884 (0.041)\n",
      ">SVM 0.882 (0.040)\n",
      ">BAG 0.836 (0.036)\n",
      ">RF 0.867 (0.033)\n",
      ">ET 0.870 (0.035)\n"
     ]
    },
    {
     "data": {
      "image/png": "[encoded data removed]",
      "text/plain": [
       "<Figure size 432x288 with 1 Axes>"
      ]
     },
     "metadata": {
      "needs_background": "light"
     },
     "output_type": "display_data"
    }
   ],
   "source": [
    "from numpy import mean\n",
    "from numpy import std\n",
    "from pandas import read_csv\n",
    "from matplotlib import pyplot\n",
    "from sklearn.preprocessing import LabelEncoder\n",
    "from sklearn.model_selection import cross_val_score\n",
    "from sklearn.model_selection import RepeatedStratifiedKFold\n",
    "from sklearn.svm import LinearSVC\n",
    "from sklearn.discriminant_analysis import LinearDiscriminantAnalysis\n",
    "from sklearn.neighbors import KNeighborsClassifier\n",
    "from sklearn.gaussian_process import GaussianProcessClassifier\n",
    "from sklearn.linear_model import LogisticRegression\n",
    "from imblearn.pipeline import Pipeline\n",
    "from imblearn.over_sampling import SMOTE\n",
    " \n",
    "# load the dataset\n",
    "def load_dataset(full_path):\n",
    "    # load the dataset as a numpy array\n",
    "    df = read_csv(full_path, header=None)\n",
    "    # remove rows for the minority classes\n",
    "    df = df[df[7] != 'imS']\n",
    "    df = df[df[7] != 'imL']\n",
    "    # retrieve numpy array\n",
    "    data = df.values\n",
    "    # split into input and output elements\n",
    "    X, y = data[:, :-1], data[:, -1]\n",
    "    # label encode the target variable\n",
    "    y = LabelEncoder().fit_transform(y)\n",
    "    return X, y\n",
    " \n",
    "# evaluate a model\n",
    "def evaluate_model(X, y, model):\n",
    "    # define evaluation procedure\n",
    "    cv = RepeatedStratifiedKFold(n_splits=5, n_repeats=3, random_state=1)\n",
    "    # evaluate model\n",
    "    scores = cross_val_score(model, X, y, scoring='accuracy', cv=cv, n_jobs=-1)\n",
    "    return scores\n",
    " \n",
    "# define models to test\n",
    "def get_models():\n",
    "    models, names = list(), list()\n",
    "    # LDA\n",
    "    models.append(LinearDiscriminantAnalysis())\n",
    "    names.append('LDA')\n",
    "    # SVM\n",
    "    models.append(LinearSVC())\n",
    "    names.append('SVM')\n",
    "    # Bagging\n",
    "    models.append(BaggingClassifier(n_estimators=1000))\n",
    "    names.append('BAG')\n",
    "    # RF\n",
    "    models.append(RandomForestClassifier(n_estimators=1000))\n",
    "    names.append('RF')\n",
    "    # ET\n",
    "    models.append(ExtraTreesClassifier(n_estimators=1000))\n",
    "    names.append('ET')\n",
    "    return models, names\n",
    " \n",
    "# define the location of the dataset\n",
    "full_path = './data/ecoli.csv'\n",
    "\n",
    "# load the dataset\n",
    "X, y = load_dataset(full_path)\n",
    "\n",
    "# define models\n",
    "models, names = get_models()\n",
    "results = list()\n",
    "\n",
    "# evaluate each model\n",
    "for i in range(len(models)):\n",
    "    # create pipeline\n",
    "    steps = [('o', SMOTE(k_neighbors=2)), ('m', models[i])]\n",
    "    pipeline = Pipeline(steps=steps)\n",
    "    # evaluate the model and store results\n",
    "    scores = evaluate_model(X, y, pipeline)\n",
    "    results.append(scores)\n",
    "    # summarize performance\n",
    "    print('>%s %.3f (%.3f)' % (names[i], mean(scores), std(scores)))\n",
    "\n",
    "# plot the results\n",
    "pyplot.boxplot(results, labels=names, showmeans=True)\n",
    "pyplot.show()"
   ]
  },
  {
   "cell_type": "markdown",
   "metadata": {},
   "source": [
    "###### **Make Predictions on New Data using Random Forest model**"
   ]
  },
  {
   "cell_type": "code",
   "execution_count": 6,
   "metadata": {},
   "outputs": [
    {
     "name": "stdout",
     "output_type": "stream",
     "text": [
      ">Predicted=cp (expected cp)\n",
      ">Predicted=im (expected im)\n",
      ">Predicted=imU (expected imU)\n",
      ">Predicted=om (expected om)\n",
      ">Predicted=omL (expected omL)\n",
      ">Predicted=pp (expected pp)\n"
     ]
    }
   ],
   "source": [
    "from pandas import read_csv\n",
    "from sklearn.preprocessing import LabelEncoder\n",
    "from sklearn.ensemble import RandomForestClassifier\n",
    " \n",
    "# load the dataset\n",
    "def load_dataset(full_path):\n",
    "    # load the dataset as a numpy array\n",
    "    df = read_csv(full_path, header=None)\n",
    "    # remove rows for the minority classes\n",
    "    df = df[df[7] != 'imS']\n",
    "    df = df[df[7] != 'imL']\n",
    "    # retrieve numpy array\n",
    "    data = df.values\n",
    "    # split into input and output elements\n",
    "    X, y = data[:, :-1], data[:, -1]\n",
    "    # label encode the target variable\n",
    "    le = LabelEncoder()\n",
    "    y = le.fit_transform(y)\n",
    "    return X, y, le\n",
    " \n",
    "# define the location of the dataset\n",
    "full_path = './data/ecoli.csv'\n",
    "\n",
    "# load the dataset\n",
    "X, y, le = load_dataset(full_path)\n",
    "\n",
    "# define model to evaluate\n",
    "model = RandomForestClassifier(n_estimators=1000)\n",
    "\n",
    "# fit the model\n",
    "model.fit(X, y)\n",
    "\n",
    "# known class \"cp\"\n",
    "row = [0.49,0.29,0.48,0.50,0.56,0.24,0.35]\n",
    "yhat = model.predict([row])\n",
    "label = le.inverse_transform(yhat)[0]\n",
    "print('>Predicted=%s (expected cp)' % (label))\n",
    "\n",
    "# known class \"im\"\n",
    "row = [0.06,0.61,0.48,0.50,0.49,0.92,0.37]\n",
    "yhat = model.predict([row])\n",
    "label = le.inverse_transform(yhat)[0]\n",
    "print('>Predicted=%s (expected im)' % (label))\n",
    "\n",
    "# known class \"imU\"\n",
    "row = [0.72,0.42,0.48,0.50,0.65,0.77,0.79]\n",
    "yhat = model.predict([row])\n",
    "label = le.inverse_transform(yhat)[0]\n",
    "print('>Predicted=%s (expected imU)' % (label))\n",
    "\n",
    "# known class \"om\"\n",
    "row = [0.78,0.68,0.48,0.50,0.83,0.40,0.29]\n",
    "yhat = model.predict([row])\n",
    "label = le.inverse_transform(yhat)[0]\n",
    "print('>Predicted=%s (expected om)' % (label))\n",
    "\n",
    "# known class \"omL\"\n",
    "row = [0.77,0.57,1.00,0.50,0.37,0.54,0.0]\n",
    "yhat = model.predict([row])\n",
    "label = le.inverse_transform(yhat)[0]\n",
    "print('>Predicted=%s (expected omL)' % (label))\n",
    "\n",
    "# known class \"pp\"\n",
    "row = [0.74,0.49,0.48,0.50,0.42,0.54,0.36]\n",
    "yhat = model.predict([row])\n",
    "label = le.inverse_transform(yhat)[0]\n",
    "print('>Predicted=%s (expected pp)' % (label))"
   ]
  },
  {
   "cell_type": "code",
   "execution_count": null,
   "metadata": {},
   "outputs": [],
   "source": []
  }
 ],
 "metadata": {
  "kernelspec": {
   "display_name": "Python 3",
   "language": "python",
   "name": "python3"
  },
  "language_info": {
   "codemirror_mode": {
    "name": "ipython",
    "version": 3
   },
   "file_extension": ".py",
   "mimetype": "text/x-python",
   "name": "python",
   "nbconvert_exporter": "python",
   "pygments_lexer": "ipython3",
   "version": "3.8.5"
  }
 },
 "nbformat": 4,
 "nbformat_minor": 4
}
